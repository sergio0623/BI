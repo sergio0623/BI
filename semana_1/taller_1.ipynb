{
  "nbformat": 4,
  "nbformat_minor": 0,
  "metadata": {
    "colab": {
      "provenance": [],
      "mount_file_id": "1QZaILTG76vlF8bhbWPFaNDpSOX7eweA3",
      "authorship_tag": "ABX9TyMIF8ePoWRYBzEmzlS8gzmW",
      "include_colab_link": true
    },
    "kernelspec": {
      "name": "python3",
      "display_name": "Python 3"
    },
    "language_info": {
      "name": "python"
    }
  },
  "cells": [
    {
      "cell_type": "markdown",
      "metadata": {
        "id": "view-in-github",
        "colab_type": "text"
      },
      "source": [
        "<a href=\"https://colab.research.google.com/github/sergio0623/BI/blob/main/taller_1.ipynb\" target=\"_parent\"><img src=\"https://colab.research.google.com/assets/colab-badge.svg\" alt=\"Open In Colab\"/></a>"
      ]
    },
    {
      "cell_type": "code",
      "execution_count": 1,
      "metadata": {
        "id": "BHlvM01Xr6su"
      },
      "outputs": [],
      "source": [
        "import pandas as pd\n",
        "#Import the data and change it to DataFrame\n",
        "product = pd.read_csv('/content/drive/MyDrive/product.csv', delimiter=';')\n",
        "customer = pd.read_csv('//content/drive/MyDrive/custmer.csv', delimiter=';')\n",
        "df_product = pd.DataFrame(product)\n",
        "df_costumer = pd.DataFrame(customer)"
      ]
    },
    {
      "cell_type": "code",
      "source": [
        "df_product.head()"
      ],
      "metadata": {
        "colab": {
          "base_uri": "https://localhost:8080/",
          "height": 206
        },
        "id": "HTKY_1b-tMB-",
        "outputId": "f4bca167-3040-4d10-8a8a-5a9e918f5a4b"
      },
      "execution_count": 2,
      "outputs": [
        {
          "output_type": "execute_result",
          "data": {
            "text/plain": [
              "     ID  Building  Year of sale  Month of sale Type of property  Property #  \\\n",
              "0  1030         1        2005.0           11.0        Apartment          30   \n",
              "1  1029         1        2005.0           10.0        Apartment          29   \n",
              "2  2002         2        2007.0            7.0        Apartment           2   \n",
              "3  2031         2        2007.0           12.0        Apartment          31   \n",
              "4  1049         1        2004.0           11.0        Apartment          49   \n",
              "\n",
              "   Area (ft.)         Price  Status  \n",
              "0      743.09  $ 246.172,68   Sold   \n",
              "1      756.21  $ 246.331,90   Sold   \n",
              "2      587.28  $ 209.280,91   Sold   \n",
              "3     1604.75  $ 452.667,01   Sold   \n",
              "4     1375.45  $ 467.083,31   Sold   "
            ],
            "text/html": [
              "\n",
              "  <div id=\"df-cfd5c5be-b3d5-4c57-94c6-e551aecff513\">\n",
              "    <div class=\"colab-df-container\">\n",
              "      <div>\n",
              "<style scoped>\n",
              "    .dataframe tbody tr th:only-of-type {\n",
              "        vertical-align: middle;\n",
              "    }\n",
              "\n",
              "    .dataframe tbody tr th {\n",
              "        vertical-align: top;\n",
              "    }\n",
              "\n",
              "    .dataframe thead th {\n",
              "        text-align: right;\n",
              "    }\n",
              "</style>\n",
              "<table border=\"1\" class=\"dataframe\">\n",
              "  <thead>\n",
              "    <tr style=\"text-align: right;\">\n",
              "      <th></th>\n",
              "      <th>ID</th>\n",
              "      <th>Building</th>\n",
              "      <th>Year of sale</th>\n",
              "      <th>Month of sale</th>\n",
              "      <th>Type of property</th>\n",
              "      <th>Property #</th>\n",
              "      <th>Area (ft.)</th>\n",
              "      <th>Price</th>\n",
              "      <th>Status</th>\n",
              "    </tr>\n",
              "  </thead>\n",
              "  <tbody>\n",
              "    <tr>\n",
              "      <th>0</th>\n",
              "      <td>1030</td>\n",
              "      <td>1</td>\n",
              "      <td>2005.0</td>\n",
              "      <td>11.0</td>\n",
              "      <td>Apartment</td>\n",
              "      <td>30</td>\n",
              "      <td>743.09</td>\n",
              "      <td>$ 246.172,68</td>\n",
              "      <td>Sold</td>\n",
              "    </tr>\n",
              "    <tr>\n",
              "      <th>1</th>\n",
              "      <td>1029</td>\n",
              "      <td>1</td>\n",
              "      <td>2005.0</td>\n",
              "      <td>10.0</td>\n",
              "      <td>Apartment</td>\n",
              "      <td>29</td>\n",
              "      <td>756.21</td>\n",
              "      <td>$ 246.331,90</td>\n",
              "      <td>Sold</td>\n",
              "    </tr>\n",
              "    <tr>\n",
              "      <th>2</th>\n",
              "      <td>2002</td>\n",
              "      <td>2</td>\n",
              "      <td>2007.0</td>\n",
              "      <td>7.0</td>\n",
              "      <td>Apartment</td>\n",
              "      <td>2</td>\n",
              "      <td>587.28</td>\n",
              "      <td>$ 209.280,91</td>\n",
              "      <td>Sold</td>\n",
              "    </tr>\n",
              "    <tr>\n",
              "      <th>3</th>\n",
              "      <td>2031</td>\n",
              "      <td>2</td>\n",
              "      <td>2007.0</td>\n",
              "      <td>12.0</td>\n",
              "      <td>Apartment</td>\n",
              "      <td>31</td>\n",
              "      <td>1604.75</td>\n",
              "      <td>$ 452.667,01</td>\n",
              "      <td>Sold</td>\n",
              "    </tr>\n",
              "    <tr>\n",
              "      <th>4</th>\n",
              "      <td>1049</td>\n",
              "      <td>1</td>\n",
              "      <td>2004.0</td>\n",
              "      <td>11.0</td>\n",
              "      <td>Apartment</td>\n",
              "      <td>49</td>\n",
              "      <td>1375.45</td>\n",
              "      <td>$ 467.083,31</td>\n",
              "      <td>Sold</td>\n",
              "    </tr>\n",
              "  </tbody>\n",
              "</table>\n",
              "</div>\n",
              "      <button class=\"colab-df-convert\" onclick=\"convertToInteractive('df-cfd5c5be-b3d5-4c57-94c6-e551aecff513')\"\n",
              "              title=\"Convert this dataframe to an interactive table.\"\n",
              "              style=\"display:none;\">\n",
              "        \n",
              "  <svg xmlns=\"http://www.w3.org/2000/svg\" height=\"24px\"viewBox=\"0 0 24 24\"\n",
              "       width=\"24px\">\n",
              "    <path d=\"M0 0h24v24H0V0z\" fill=\"none\"/>\n",
              "    <path d=\"M18.56 5.44l.94 2.06.94-2.06 2.06-.94-2.06-.94-.94-2.06-.94 2.06-2.06.94zm-11 1L8.5 8.5l.94-2.06 2.06-.94-2.06-.94L8.5 2.5l-.94 2.06-2.06.94zm10 10l.94 2.06.94-2.06 2.06-.94-2.06-.94-.94-2.06-.94 2.06-2.06.94z\"/><path d=\"M17.41 7.96l-1.37-1.37c-.4-.4-.92-.59-1.43-.59-.52 0-1.04.2-1.43.59L10.3 9.45l-7.72 7.72c-.78.78-.78 2.05 0 2.83L4 21.41c.39.39.9.59 1.41.59.51 0 1.02-.2 1.41-.59l7.78-7.78 2.81-2.81c.8-.78.8-2.07 0-2.86zM5.41 20L4 18.59l7.72-7.72 1.47 1.35L5.41 20z\"/>\n",
              "  </svg>\n",
              "      </button>\n",
              "      \n",
              "  <style>\n",
              "    .colab-df-container {\n",
              "      display:flex;\n",
              "      flex-wrap:wrap;\n",
              "      gap: 12px;\n",
              "    }\n",
              "\n",
              "    .colab-df-convert {\n",
              "      background-color: #E8F0FE;\n",
              "      border: none;\n",
              "      border-radius: 50%;\n",
              "      cursor: pointer;\n",
              "      display: none;\n",
              "      fill: #1967D2;\n",
              "      height: 32px;\n",
              "      padding: 0 0 0 0;\n",
              "      width: 32px;\n",
              "    }\n",
              "\n",
              "    .colab-df-convert:hover {\n",
              "      background-color: #E2EBFA;\n",
              "      box-shadow: 0px 1px 2px rgba(60, 64, 67, 0.3), 0px 1px 3px 1px rgba(60, 64, 67, 0.15);\n",
              "      fill: #174EA6;\n",
              "    }\n",
              "\n",
              "    [theme=dark] .colab-df-convert {\n",
              "      background-color: #3B4455;\n",
              "      fill: #D2E3FC;\n",
              "    }\n",
              "\n",
              "    [theme=dark] .colab-df-convert:hover {\n",
              "      background-color: #434B5C;\n",
              "      box-shadow: 0px 1px 3px 1px rgba(0, 0, 0, 0.15);\n",
              "      filter: drop-shadow(0px 1px 2px rgba(0, 0, 0, 0.3));\n",
              "      fill: #FFFFFF;\n",
              "    }\n",
              "  </style>\n",
              "\n",
              "      <script>\n",
              "        const buttonEl =\n",
              "          document.querySelector('#df-cfd5c5be-b3d5-4c57-94c6-e551aecff513 button.colab-df-convert');\n",
              "        buttonEl.style.display =\n",
              "          google.colab.kernel.accessAllowed ? 'block' : 'none';\n",
              "\n",
              "        async function convertToInteractive(key) {\n",
              "          const element = document.querySelector('#df-cfd5c5be-b3d5-4c57-94c6-e551aecff513');\n",
              "          const dataTable =\n",
              "            await google.colab.kernel.invokeFunction('convertToInteractive',\n",
              "                                                     [key], {});\n",
              "          if (!dataTable) return;\n",
              "\n",
              "          const docLinkHtml = 'Like what you see? Visit the ' +\n",
              "            '<a target=\"_blank\" href=https://colab.research.google.com/notebooks/data_table.ipynb>data table notebook</a>'\n",
              "            + ' to learn more about interactive tables.';\n",
              "          element.innerHTML = '';\n",
              "          dataTable['output_type'] = 'display_data';\n",
              "          await google.colab.output.renderOutput(dataTable, element);\n",
              "          const docLink = document.createElement('div');\n",
              "          docLink.innerHTML = docLinkHtml;\n",
              "          element.appendChild(docLink);\n",
              "        }\n",
              "      </script>\n",
              "    </div>\n",
              "  </div>\n",
              "  "
            ]
          },
          "metadata": {},
          "execution_count": 2
        }
      ]
    },
    {
      "cell_type": "code",
      "source": [
        "df_costumer.head()"
      ],
      "metadata": {
        "colab": {
          "base_uri": "https://localhost:8080/",
          "height": 268
        },
        "id": "OkT2R7z8tYLQ",
        "outputId": "060d88e5-81bd-4d29-83e7-853183c9ffbf"
      },
      "execution_count": 3,
      "outputs": [
        {
          "output_type": "execute_result",
          "data": {
            "text/plain": [
              "  Customer ID      Entity        Name   Surname  Age at time of purchase  \\\n",
              "0       C0028  Individual     Madalyn    Mercer                       19   \n",
              "1       C0027  Individual        Lara  Carrillo                       22   \n",
              "2       C0112  Individual     Donavan   Flowers                       22   \n",
              "3       C0160  Individual      Darien    Dorsey                       22   \n",
              "4       C0014  Individual  Alessandra     Perry                       25   \n",
              "\n",
              "  Interval     Y   M   D Gender Country       State     Purpose  \\\n",
              "0    18-25  1986   6  21      F     USA  California        Home   \n",
              "1    18-25  1983   2  24      F     USA  California        Home   \n",
              "2    18-25  1985  12  27      M     USA  California        Home   \n",
              "3    18-25  1985  12  27      M     USA  California  Investment   \n",
              "4    18-25  1979   5  15      F     USA  California        Home   \n",
              "\n",
              "   Deal satisfaction Mortgage   Source  \n",
              "0                  5       No  Website  \n",
              "1                  5       No  Website  \n",
              "2                  1      Yes   Client  \n",
              "3                  3      Yes  Website  \n",
              "4                  4       No   Agency  "
            ],
            "text/html": [
              "\n",
              "  <div id=\"df-d5c865ba-bbfb-4975-b92e-64a372330cc3\">\n",
              "    <div class=\"colab-df-container\">\n",
              "      <div>\n",
              "<style scoped>\n",
              "    .dataframe tbody tr th:only-of-type {\n",
              "        vertical-align: middle;\n",
              "    }\n",
              "\n",
              "    .dataframe tbody tr th {\n",
              "        vertical-align: top;\n",
              "    }\n",
              "\n",
              "    .dataframe thead th {\n",
              "        text-align: right;\n",
              "    }\n",
              "</style>\n",
              "<table border=\"1\" class=\"dataframe\">\n",
              "  <thead>\n",
              "    <tr style=\"text-align: right;\">\n",
              "      <th></th>\n",
              "      <th>Customer ID</th>\n",
              "      <th>Entity</th>\n",
              "      <th>Name</th>\n",
              "      <th>Surname</th>\n",
              "      <th>Age at time of purchase</th>\n",
              "      <th>Interval</th>\n",
              "      <th>Y</th>\n",
              "      <th>M</th>\n",
              "      <th>D</th>\n",
              "      <th>Gender</th>\n",
              "      <th>Country</th>\n",
              "      <th>State</th>\n",
              "      <th>Purpose</th>\n",
              "      <th>Deal satisfaction</th>\n",
              "      <th>Mortgage</th>\n",
              "      <th>Source</th>\n",
              "    </tr>\n",
              "  </thead>\n",
              "  <tbody>\n",
              "    <tr>\n",
              "      <th>0</th>\n",
              "      <td>C0028</td>\n",
              "      <td>Individual</td>\n",
              "      <td>Madalyn</td>\n",
              "      <td>Mercer</td>\n",
              "      <td>19</td>\n",
              "      <td>18-25</td>\n",
              "      <td>1986</td>\n",
              "      <td>6</td>\n",
              "      <td>21</td>\n",
              "      <td>F</td>\n",
              "      <td>USA</td>\n",
              "      <td>California</td>\n",
              "      <td>Home</td>\n",
              "      <td>5</td>\n",
              "      <td>No</td>\n",
              "      <td>Website</td>\n",
              "    </tr>\n",
              "    <tr>\n",
              "      <th>1</th>\n",
              "      <td>C0027</td>\n",
              "      <td>Individual</td>\n",
              "      <td>Lara</td>\n",
              "      <td>Carrillo</td>\n",
              "      <td>22</td>\n",
              "      <td>18-25</td>\n",
              "      <td>1983</td>\n",
              "      <td>2</td>\n",
              "      <td>24</td>\n",
              "      <td>F</td>\n",
              "      <td>USA</td>\n",
              "      <td>California</td>\n",
              "      <td>Home</td>\n",
              "      <td>5</td>\n",
              "      <td>No</td>\n",
              "      <td>Website</td>\n",
              "    </tr>\n",
              "    <tr>\n",
              "      <th>2</th>\n",
              "      <td>C0112</td>\n",
              "      <td>Individual</td>\n",
              "      <td>Donavan</td>\n",
              "      <td>Flowers</td>\n",
              "      <td>22</td>\n",
              "      <td>18-25</td>\n",
              "      <td>1985</td>\n",
              "      <td>12</td>\n",
              "      <td>27</td>\n",
              "      <td>M</td>\n",
              "      <td>USA</td>\n",
              "      <td>California</td>\n",
              "      <td>Home</td>\n",
              "      <td>1</td>\n",
              "      <td>Yes</td>\n",
              "      <td>Client</td>\n",
              "    </tr>\n",
              "    <tr>\n",
              "      <th>3</th>\n",
              "      <td>C0160</td>\n",
              "      <td>Individual</td>\n",
              "      <td>Darien</td>\n",
              "      <td>Dorsey</td>\n",
              "      <td>22</td>\n",
              "      <td>18-25</td>\n",
              "      <td>1985</td>\n",
              "      <td>12</td>\n",
              "      <td>27</td>\n",
              "      <td>M</td>\n",
              "      <td>USA</td>\n",
              "      <td>California</td>\n",
              "      <td>Investment</td>\n",
              "      <td>3</td>\n",
              "      <td>Yes</td>\n",
              "      <td>Website</td>\n",
              "    </tr>\n",
              "    <tr>\n",
              "      <th>4</th>\n",
              "      <td>C0014</td>\n",
              "      <td>Individual</td>\n",
              "      <td>Alessandra</td>\n",
              "      <td>Perry</td>\n",
              "      <td>25</td>\n",
              "      <td>18-25</td>\n",
              "      <td>1979</td>\n",
              "      <td>5</td>\n",
              "      <td>15</td>\n",
              "      <td>F</td>\n",
              "      <td>USA</td>\n",
              "      <td>California</td>\n",
              "      <td>Home</td>\n",
              "      <td>4</td>\n",
              "      <td>No</td>\n",
              "      <td>Agency</td>\n",
              "    </tr>\n",
              "  </tbody>\n",
              "</table>\n",
              "</div>\n",
              "      <button class=\"colab-df-convert\" onclick=\"convertToInteractive('df-d5c865ba-bbfb-4975-b92e-64a372330cc3')\"\n",
              "              title=\"Convert this dataframe to an interactive table.\"\n",
              "              style=\"display:none;\">\n",
              "        \n",
              "  <svg xmlns=\"http://www.w3.org/2000/svg\" height=\"24px\"viewBox=\"0 0 24 24\"\n",
              "       width=\"24px\">\n",
              "    <path d=\"M0 0h24v24H0V0z\" fill=\"none\"/>\n",
              "    <path d=\"M18.56 5.44l.94 2.06.94-2.06 2.06-.94-2.06-.94-.94-2.06-.94 2.06-2.06.94zm-11 1L8.5 8.5l.94-2.06 2.06-.94-2.06-.94L8.5 2.5l-.94 2.06-2.06.94zm10 10l.94 2.06.94-2.06 2.06-.94-2.06-.94-.94-2.06-.94 2.06-2.06.94z\"/><path d=\"M17.41 7.96l-1.37-1.37c-.4-.4-.92-.59-1.43-.59-.52 0-1.04.2-1.43.59L10.3 9.45l-7.72 7.72c-.78.78-.78 2.05 0 2.83L4 21.41c.39.39.9.59 1.41.59.51 0 1.02-.2 1.41-.59l7.78-7.78 2.81-2.81c.8-.78.8-2.07 0-2.86zM5.41 20L4 18.59l7.72-7.72 1.47 1.35L5.41 20z\"/>\n",
              "  </svg>\n",
              "      </button>\n",
              "      \n",
              "  <style>\n",
              "    .colab-df-container {\n",
              "      display:flex;\n",
              "      flex-wrap:wrap;\n",
              "      gap: 12px;\n",
              "    }\n",
              "\n",
              "    .colab-df-convert {\n",
              "      background-color: #E8F0FE;\n",
              "      border: none;\n",
              "      border-radius: 50%;\n",
              "      cursor: pointer;\n",
              "      display: none;\n",
              "      fill: #1967D2;\n",
              "      height: 32px;\n",
              "      padding: 0 0 0 0;\n",
              "      width: 32px;\n",
              "    }\n",
              "\n",
              "    .colab-df-convert:hover {\n",
              "      background-color: #E2EBFA;\n",
              "      box-shadow: 0px 1px 2px rgba(60, 64, 67, 0.3), 0px 1px 3px 1px rgba(60, 64, 67, 0.15);\n",
              "      fill: #174EA6;\n",
              "    }\n",
              "\n",
              "    [theme=dark] .colab-df-convert {\n",
              "      background-color: #3B4455;\n",
              "      fill: #D2E3FC;\n",
              "    }\n",
              "\n",
              "    [theme=dark] .colab-df-convert:hover {\n",
              "      background-color: #434B5C;\n",
              "      box-shadow: 0px 1px 3px 1px rgba(0, 0, 0, 0.15);\n",
              "      filter: drop-shadow(0px 1px 2px rgba(0, 0, 0, 0.3));\n",
              "      fill: #FFFFFF;\n",
              "    }\n",
              "  </style>\n",
              "\n",
              "      <script>\n",
              "        const buttonEl =\n",
              "          document.querySelector('#df-d5c865ba-bbfb-4975-b92e-64a372330cc3 button.colab-df-convert');\n",
              "        buttonEl.style.display =\n",
              "          google.colab.kernel.accessAllowed ? 'block' : 'none';\n",
              "\n",
              "        async function convertToInteractive(key) {\n",
              "          const element = document.querySelector('#df-d5c865ba-bbfb-4975-b92e-64a372330cc3');\n",
              "          const dataTable =\n",
              "            await google.colab.kernel.invokeFunction('convertToInteractive',\n",
              "                                                     [key], {});\n",
              "          if (!dataTable) return;\n",
              "\n",
              "          const docLinkHtml = 'Like what you see? Visit the ' +\n",
              "            '<a target=\"_blank\" href=https://colab.research.google.com/notebooks/data_table.ipynb>data table notebook</a>'\n",
              "            + ' to learn more about interactive tables.';\n",
              "          element.innerHTML = '';\n",
              "          dataTable['output_type'] = 'display_data';\n",
              "          await google.colab.output.renderOutput(dataTable, element);\n",
              "          const docLink = document.createElement('div');\n",
              "          docLink.innerHTML = docLinkHtml;\n",
              "          element.appendChild(docLink);\n",
              "        }\n",
              "      </script>\n",
              "    </div>\n",
              "  </div>\n",
              "  "
            ]
          },
          "metadata": {},
          "execution_count": 3
        }
      ]
    },
    {
      "cell_type": "code",
      "source": [
        "df_costumer.info()"
      ],
      "metadata": {
        "colab": {
          "base_uri": "https://localhost:8080/"
        },
        "id": "qwPdyJsiwjI8",
        "outputId": "53be4200-7708-4953-e930-e5f4d2a193c0"
      },
      "execution_count": 4,
      "outputs": [
        {
          "output_type": "stream",
          "name": "stdout",
          "text": [
            "<class 'pandas.core.frame.DataFrame'>\n",
            "RangeIndex: 178 entries, 0 to 177\n",
            "Data columns (total 16 columns):\n",
            " #   Column                   Non-Null Count  Dtype \n",
            "---  ------                   --------------  ----- \n",
            " 0   Customer ID              178 non-null    object\n",
            " 1   Entity                   178 non-null    object\n",
            " 2   Name                     178 non-null    object\n",
            " 3   Surname                  178 non-null    object\n",
            " 4   Age at time of purchase  178 non-null    int64 \n",
            " 5   Interval                 178 non-null    object\n",
            " 6   Y                        178 non-null    int64 \n",
            " 7   M                        178 non-null    int64 \n",
            " 8   D                        178 non-null    int64 \n",
            " 9   Gender                   178 non-null    object\n",
            " 10  Country                  178 non-null    object\n",
            " 11  State                    164 non-null    object\n",
            " 12  Purpose                  178 non-null    object\n",
            " 13  Deal satisfaction        178 non-null    int64 \n",
            " 14  Mortgage                 178 non-null    object\n",
            " 15  Source                   178 non-null    object\n",
            "dtypes: int64(5), object(11)\n",
            "memory usage: 22.4+ KB\n"
          ]
        }
      ]
    },
    {
      "cell_type": "code",
      "source": [
        "df_product.info()"
      ],
      "metadata": {
        "colab": {
          "base_uri": "https://localhost:8080/"
        },
        "id": "EuHyzzTq30gZ",
        "outputId": "0a8d6313-812a-44aa-fa94-f2f0c3be3d15"
      },
      "execution_count": 5,
      "outputs": [
        {
          "output_type": "stream",
          "name": "stdout",
          "text": [
            "<class 'pandas.core.frame.DataFrame'>\n",
            "RangeIndex: 267 entries, 0 to 266\n",
            "Data columns (total 9 columns):\n",
            " #   Column            Non-Null Count  Dtype  \n",
            "---  ------            --------------  -----  \n",
            " 0   ID                267 non-null    int64  \n",
            " 1   Building          267 non-null    int64  \n",
            " 2   Year of sale      195 non-null    float64\n",
            " 3   Month of sale     195 non-null    float64\n",
            " 4   Type of property  267 non-null    object \n",
            " 5   Property #        267 non-null    int64  \n",
            " 6   Area (ft.)        267 non-null    float64\n",
            " 7   Price             267 non-null    object \n",
            " 8   Status            195 non-null    object \n",
            "dtypes: float64(3), int64(3), object(3)\n",
            "memory usage: 18.9+ KB\n"
          ]
        }
      ]
    },
    {
      "cell_type": "code",
      "source": [
        "df_product.info()"
      ],
      "metadata": {
        "colab": {
          "base_uri": "https://localhost:8080/"
        },
        "id": "v1C6Oi4t5KxP",
        "outputId": "ac2ab0a1-49ce-48e2-b93b-12113640115d"
      },
      "execution_count": 6,
      "outputs": [
        {
          "output_type": "stream",
          "name": "stdout",
          "text": [
            "<class 'pandas.core.frame.DataFrame'>\n",
            "RangeIndex: 267 entries, 0 to 266\n",
            "Data columns (total 9 columns):\n",
            " #   Column            Non-Null Count  Dtype  \n",
            "---  ------            --------------  -----  \n",
            " 0   ID                267 non-null    int64  \n",
            " 1   Building          267 non-null    int64  \n",
            " 2   Year of sale      195 non-null    float64\n",
            " 3   Month of sale     195 non-null    float64\n",
            " 4   Type of property  267 non-null    object \n",
            " 5   Property #        267 non-null    int64  \n",
            " 6   Area (ft.)        267 non-null    float64\n",
            " 7   Price             267 non-null    object \n",
            " 8   Status            195 non-null    object \n",
            "dtypes: float64(3), int64(3), object(3)\n",
            "memory usage: 18.9+ KB\n"
          ]
        }
      ]
    },
    {
      "cell_type": "code",
      "source": [
        "#Task 1: What are the types of data and the levels of measurement of the following variables: Cust ID, Mortgage, Year of sale\n",
        "print(\"custumer id = \", df_costumer['Customer ID'].dtype, \",categorico, nominal\")\n",
        "print(\"Mortgage = \", df_costumer['Mortgage'].dtype, \"categorico, nominal\")\n",
        "print(\"Year of sale = \",df_product['Year of sale'].dtype, \"categorico, fecha, ratio\")"
      ],
      "metadata": {
        "colab": {
          "base_uri": "https://localhost:8080/"
        },
        "id": "UAgT9B6jtfAh",
        "outputId": "e273a2be-4acc-4075-ce2b-e9e3c67fcfe4"
      },
      "execution_count": 7,
      "outputs": [
        {
          "output_type": "stream",
          "name": "stdout",
          "text": [
            "custumer id =  object ,categorico, nominal\n",
            "Mortgage =  object categorico, nominal\n",
            "Year of sale =  float64 categorico, fecha, ratio\n"
          ]
        }
      ]
    },
    {
      "cell_type": "code",
      "source": [
        "def replace(string, looking_for, replace_for):\n",
        "    new = \"\"\n",
        "    for letter in string:\n",
        "        if letter == looking_for:\n",
        "            new += replace_for\n",
        "        else:\n",
        "            new += letter\n",
        "    return new\n",
        "\n",
        "x = 0 \n",
        "for space in df_product['Price']:\n",
        "    df_product.loc[x,'Price'] = df_product.loc[x,'Price'].replace(space,space.strip())\n",
        "    x += 1\n",
        "y = 0 \n",
        "for dolar in df_product['Price']:\n",
        "    df_product.loc[y,'Price'] = df_product.loc[y,'Price'].replace(dolar,dolar[1:])\n",
        "    y += 1\n",
        "z = 0 \n",
        "for dot in df_product['Price']:    \n",
        "    df_product.loc[z,'Price'] = replace(dot,\".\",\"\")\n",
        "    z += 1\n",
        "w = 0\n",
        "for coma in df_product['Price']:\n",
        "    df_product.loc[w,'Price'] = replace(coma,\",\",\".\")\n",
        "    w += 1\n",
        "\n",
        "df_product['Price'] = df_product['Price'].astype(float)\n",
        "\n",
        "#Generate the No sold category on the column Status\n",
        "df_product['Status'] =df_product['Status'].fillna('No sold')"
      ],
      "metadata": {
        "id": "oABze09x0n-h"
      },
      "execution_count": 8,
      "outputs": []
    },
    {
      "cell_type": "code",
      "source": [
        "#Task 2: Create a frequency distribution graph representing the price (that is a histogram with the highest possible number of bins - 272). \n",
        "#Use data on all apartments and offices, no matter if sold or not.\n",
        "\n",
        "import matplotlib.pyplot as plt\n",
        "\n",
        "plt.hist(df_product['Price'], bins=272)\n",
        "plt.show()"
      ],
      "metadata": {
        "colab": {
          "base_uri": "https://localhost:8080/",
          "height": 265
        },
        "id": "SN2MzSV5y5An",
        "outputId": "d4a44a06-ed79-411e-d9ce-1262600dece3"
      },
      "execution_count": 9,
      "outputs": [
        {
          "output_type": "display_data",
          "data": {
            "text/plain": [
              "<Figure size 432x288 with 1 Axes>"
            ],
            "image/png": "[encoded data removed]"
          },
          "metadata": {
            "needs_background": "light"
          }
        }
      ]
    },
    {
      "cell_type": "code",
      "source": [
        "#task 3: Create a histogram which represents the Price variable. Choose interval width (bins) of length $100,000. \n",
        "#If you don't know how to do that, refer to the Course notes on descriptive statistics provided with the first lecture in this section.\n",
        "a = [100000,200000,300000,400000,500000,600000]\n",
        "plt.hist(x=df_product['Price'], bins=a, rwidth=0.85)\n",
        "plt.xticks(a)\n",
        "plt.show()"
      ],
      "metadata": {
        "colab": {
          "base_uri": "https://localhost:8080/",
          "height": 268
        },
        "id": "AnRShEwizkue",
        "outputId": "950727d2-9c6f-4714-bdb3-8983c82cb82e"
      },
      "execution_count": 10,
      "outputs": [
        {
          "output_type": "display_data",
          "data": {
            "text/plain": [
              "<Figure size 432x288 with 1 Axes>"
            ],
            "image/png": "[encoded data removed]"
          },
          "metadata": {
            "needs_background": "light"
          }
        }
      ]
    },
    {
      "cell_type": "markdown",
      "source": [
        "#Task 4: Interpret the results.\n",
        "\n",
        "segun los datos que podemos observar en ambos graficos vemos que el rango que tiene mayor cantidad de ventas esta entre 200.000 y 300.000, el segundo rango con mas ventas esta entre 300.000 y 400.000"
      ],
      "metadata": {
        "id": "C1HehSzr1lMP"
      }
    },
    {
      "cell_type": "code",
      "source": [
        "#Task 5: Create a scatter plot showing the relationship between Price and Area. Use the data on all properties, no matter if sold or not. Interpret the results.\n",
        "fig, ax=plt.subplots()\n",
        "ax.scatter(df_product['Price'],df_product['Area (ft.)'])\n",
        "plt.xlabel('Price')\n",
        "plt.ylabel('Area (ft,)')\n",
        "plt.title('Scatter plot between Price and Area')\n",
        "\n",
        "plt.show()"
      ],
      "metadata": {
        "colab": {
          "base_uri": "https://localhost:8080/",
          "height": 295
        },
        "id": "aovMrVTX1_Z5",
        "outputId": "a28d7acb-f00c-493b-c9a1-25595a3efb0e"
      },
      "execution_count": 11,
      "outputs": [
        {
          "output_type": "display_data",
          "data": {
            "text/plain": [
              "<Figure size 432x288 with 1 Axes>"
            ],
            "image/png": "[encoded data removed]"
          },
          "metadata": {
            "needs_background": "light"
          }
        }
      ]
    },
    {
      "cell_type": "markdown",
      "source": [
        "en el grafico anterior podemos visualizar una relacion positiva ya que ambos aumentan al mismo nivel, ademas de tener una recta imaginaria trazada podemos ver la cercania a la misma, es decir no tenemos mucha dispersion entre los datos de precio y area."
      ],
      "metadata": {
        "id": "mwPumJ6H71Jv"
      }
    },
    {
      "cell_type": "code",
      "source": [
        "#Task 6: Create a frequency distribution table, where you list all the countries from which the company has buyers (country vs number of buyers). \n",
        "#Count the absolute frequency, the relative frequency and the cumulative frequency. \n",
        "\n",
        "frecuencia = pd.DataFrame(pd.value_counts(df_costumer['Country']))\n",
        "frecuencia.columns = [\"Absolute frequency\"]\n",
        "\n",
        "frecuencia['Relative frequency'] = frecuencia['Absolute frequency']/len(df_costumer['Country'])\n",
        "\n",
        "acum = []\n",
        "values_acum = 0\n",
        "for i in frecuencia['Relative frequency']:\n",
        "    values_acum += i\n",
        "    acum.append(values_acum)\n",
        "frecuencia['Cumulative frequency'] = acum\n",
        "\n",
        "frecuencia"
      ],
      "metadata": {
        "colab": {
          "base_uri": "https://localhost:8080/",
          "height": 300
        },
        "id": "fv3sZ7lw6OLr",
        "outputId": "6f212215-73f0-46fe-a688-ae5832b017f7"
      },
      "execution_count": 14,
      "outputs": [
        {
          "output_type": "execute_result",
          "data": {
            "text/plain": [
              "         Absolute frequency  Relative frequency  Cumulative frequency\n",
              "USA                     160            0.898876              0.898876\n",
              "Canada                    7            0.039326              0.938202\n",
              "Russia                    4            0.022472              0.960674\n",
              "UK                        2            0.011236              0.971910\n",
              "Belgium                   2            0.011236              0.983146\n",
              "Denmark                   1            0.005618              0.988764\n",
              "Germany                   1            0.005618              0.994382\n",
              "Mexico                    1            0.005618              1.000000"
            ],
            "text/html": [
              "\n",
              "  <div id=\"df-7ac8646c-ccdf-4046-832f-e9e1db21e93b\">\n",
              "    <div class=\"colab-df-container\">\n",
              "      <div>\n",
              "<style scoped>\n",
              "    .dataframe tbody tr th:only-of-type {\n",
              "        vertical-align: middle;\n",
              "    }\n",
              "\n",
              "    .dataframe tbody tr th {\n",
              "        vertical-align: top;\n",
              "    }\n",
              "\n",
              "    .dataframe thead th {\n",
              "        text-align: right;\n",
              "    }\n",
              "</style>\n",
              "<table border=\"1\" class=\"dataframe\">\n",
              "  <thead>\n",
              "    <tr style=\"text-align: right;\">\n",
              "      <th></th>\n",
              "      <th>Absolute frequency</th>\n",
              "      <th>Relative frequency</th>\n",
              "      <th>Cumulative frequency</th>\n",
              "    </tr>\n",
              "  </thead>\n",
              "  <tbody>\n",
              "    <tr>\n",
              "      <th>USA</th>\n",
              "      <td>160</td>\n",
              "      <td>0.898876</td>\n",
              "      <td>0.898876</td>\n",
              "    </tr>\n",
              "    <tr>\n",
              "      <th>Canada</th>\n",
              "      <td>7</td>\n",
              "      <td>0.039326</td>\n",
              "      <td>0.938202</td>\n",
              "    </tr>\n",
              "    <tr>\n",
              "      <th>Russia</th>\n",
              "      <td>4</td>\n",
              "      <td>0.022472</td>\n",
              "      <td>0.960674</td>\n",
              "    </tr>\n",
              "    <tr>\n",
              "      <th>UK</th>\n",
              "      <td>2</td>\n",
              "      <td>0.011236</td>\n",
              "      <td>0.971910</td>\n",
              "    </tr>\n",
              "    <tr>\n",
              "      <th>Belgium</th>\n",
              "      <td>2</td>\n",
              "      <td>0.011236</td>\n",
              "      <td>0.983146</td>\n",
              "    </tr>\n",
              "    <tr>\n",
              "      <th>Denmark</th>\n",
              "      <td>1</td>\n",
              "      <td>0.005618</td>\n",
              "      <td>0.988764</td>\n",
              "    </tr>\n",
              "    <tr>\n",
              "      <th>Germany</th>\n",
              "      <td>1</td>\n",
              "      <td>0.005618</td>\n",
              "      <td>0.994382</td>\n",
              "    </tr>\n",
              "    <tr>\n",
              "      <th>Mexico</th>\n",
              "      <td>1</td>\n",
              "      <td>0.005618</td>\n",
              "      <td>1.000000</td>\n",
              "    </tr>\n",
              "  </tbody>\n",
              "</table>\n",
              "</div>\n",
              "      <button class=\"colab-df-convert\" onclick=\"convertToInteractive('df-7ac8646c-ccdf-4046-832f-e9e1db21e93b')\"\n",
              "              title=\"Convert this dataframe to an interactive table.\"\n",
              "              style=\"display:none;\">\n",
              "        \n",
              "  <svg xmlns=\"http://www.w3.org/2000/svg\" height=\"24px\"viewBox=\"0 0 24 24\"\n",
              "       width=\"24px\">\n",
              "    <path d=\"M0 0h24v24H0V0z\" fill=\"none\"/>\n",
              "    <path d=\"M18.56 5.44l.94 2.06.94-2.06 2.06-.94-2.06-.94-.94-2.06-.94 2.06-2.06.94zm-11 1L8.5 8.5l.94-2.06 2.06-.94-2.06-.94L8.5 2.5l-.94 2.06-2.06.94zm10 10l.94 2.06.94-2.06 2.06-.94-2.06-.94-.94-2.06-.94 2.06-2.06.94z\"/><path d=\"M17.41 7.96l-1.37-1.37c-.4-.4-.92-.59-1.43-.59-.52 0-1.04.2-1.43.59L10.3 9.45l-7.72 7.72c-.78.78-.78 2.05 0 2.83L4 21.41c.39.39.9.59 1.41.59.51 0 1.02-.2 1.41-.59l7.78-7.78 2.81-2.81c.8-.78.8-2.07 0-2.86zM5.41 20L4 18.59l7.72-7.72 1.47 1.35L5.41 20z\"/>\n",
              "  </svg>\n",
              "      </button>\n",
              "      \n",
              "  <style>\n",
              "    .colab-df-container {\n",
              "      display:flex;\n",
              "      flex-wrap:wrap;\n",
              "      gap: 12px;\n",
              "    }\n",
              "\n",
              "    .colab-df-convert {\n",
              "      background-color: #E8F0FE;\n",
              "      border: none;\n",
              "      border-radius: 50%;\n",
              "      cursor: pointer;\n",
              "      display: none;\n",
              "      fill: #1967D2;\n",
              "      height: 32px;\n",
              "      padding: 0 0 0 0;\n",
              "      width: 32px;\n",
              "    }\n",
              "\n",
              "    .colab-df-convert:hover {\n",
              "      background-color: #E2EBFA;\n",
              "      box-shadow: 0px 1px 2px rgba(60, 64, 67, 0.3), 0px 1px 3px 1px rgba(60, 64, 67, 0.15);\n",
              "      fill: #174EA6;\n",
              "    }\n",
              "\n",
              "    [theme=dark] .colab-df-convert {\n",
              "      background-color: #3B4455;\n",
              "      fill: #D2E3FC;\n",
              "    }\n",
              "\n",
              "    [theme=dark] .colab-df-convert:hover {\n",
              "      background-color: #434B5C;\n",
              "      box-shadow: 0px 1px 3px 1px rgba(0, 0, 0, 0.15);\n",
              "      filter: drop-shadow(0px 1px 2px rgba(0, 0, 0, 0.3));\n",
              "      fill: #FFFFFF;\n",
              "    }\n",
              "  </style>\n",
              "\n",
              "      <script>\n",
              "        const buttonEl =\n",
              "          document.querySelector('#df-7ac8646c-ccdf-4046-832f-e9e1db21e93b button.colab-df-convert');\n",
              "        buttonEl.style.display =\n",
              "          google.colab.kernel.accessAllowed ? 'block' : 'none';\n",
              "\n",
              "        async function convertToInteractive(key) {\n",
              "          const element = document.querySelector('#df-7ac8646c-ccdf-4046-832f-e9e1db21e93b');\n",
              "          const dataTable =\n",
              "            await google.colab.kernel.invokeFunction('convertToInteractive',\n",
              "                                                     [key], {});\n",
              "          if (!dataTable) return;\n",
              "\n",
              "          const docLinkHtml = 'Like what you see? Visit the ' +\n",
              "            '<a target=\"_blank\" href=https://colab.research.google.com/notebooks/data_table.ipynb>data table notebook</a>'\n",
              "            + ' to learn more about interactive tables.';\n",
              "          element.innerHTML = '';\n",
              "          dataTable['output_type'] = 'display_data';\n",
              "          await google.colab.output.renderOutput(dataTable, element);\n",
              "          const docLink = document.createElement('div');\n",
              "          docLink.innerHTML = docLinkHtml;\n",
              "          element.appendChild(docLink);\n",
              "        }\n",
              "      </script>\n",
              "    </div>\n",
              "  </div>\n",
              "  "
            ]
          },
          "metadata": {},
          "execution_count": 14
        }
      ]
    },
    {
      "cell_type": "code",
      "source": [
        "#Task 7: Create a Pareto diagram representing the data.\n",
        "from matplotlib.ticker import PercentFormatter\n",
        "Pareto = plt.figure()\n",
        "ax = Pareto.add_subplot(1,1,1)\n",
        "ax.bar(frecuencia.index, frecuencia['Absolute frequency'], color = 'C0')\n",
        "ax2 = ax.twinx()\n",
        "ax2.plot(frecuencia.index, frecuencia['Relative frequency']*100, color=\"C1\", marker='D', ms=5)\n",
        "ax2.yaxis.set_major_formatter(PercentFormatter())\n",
        "ax.tick_params(axis='y', colors = 'C0')\n",
        "ax2.tick_params(axis='y', colors ='C1')\n",
        "ax.set_xticklabels(frecuencia.index, rotation= 90)\n",
        "\n",
        "plt.show()"
      ],
      "metadata": {
        "colab": {
          "base_uri": "https://localhost:8080/",
          "height": 301
        },
        "id": "X_838TVj8xeq",
        "outputId": "0bbc01a2-3dc4-415c-e614-947ff9e20ef4"
      },
      "execution_count": 15,
      "outputs": [
        {
          "output_type": "display_data",
          "data": {
            "text/plain": [
              "<Figure size 432x288 with 2 Axes>"
            ],
            "image/png": "[encoded data removed]"
          },
          "metadata": {}
        }
      ]
    },
    {
      "cell_type": "code",
      "source": [
        "#Task 8: Calculate the mean, median, mode, skewness, variance and standard deviation of Price for all properties, no matter if sold or not.\n",
        "import statistics as st\n",
        "print('la media es : ',round(st.mean(df_product['Price']),2))\n",
        "print('la mediana es : ',round(st.median(df_product['Price']),2))\n",
        "print('la moda es : ',round(st.mode(df_product['Price']),2))\n",
        "ske = df_product['Price']\n",
        "print('la curvatura es : ',round(ske.skew(),2))\n",
        "print('la varianza es : ',round(st.variance(df_product['Price']),2))\n",
        "print('la desviacion estandar es : ',round(st.stdev(df_product['Price']),2))"
      ],
      "metadata": {
        "colab": {
          "base_uri": "https://localhost:8080/"
        },
        "id": "LH4NgvyZ9NP0",
        "outputId": "a9053221-3090-4c5e-f993-6a3537060a7b"
      },
      "execution_count": 16,
      "outputs": [
        {
          "output_type": "stream",
          "name": "stdout",
          "text": [
            "la media es :  281171.9\n",
            "la mediana es :  249075.66\n",
            "la moda es :  460001.26\n",
            "la curvatura es :  1.1\n",
            "la varianza es :  7942217728.65\n",
            "la desviacion estandar es :  89119.12\n"
          ]
        }
      ]
    },
    {
      "cell_type": "markdown",
      "source": [
        "Task 9: Interpret the measures.\n",
        "\n",
        "con estas estadisticas que calculamos anteriormente podemos concluir:\n",
        "la media se ve afectada por los datos que son muy grandes o muy pequeños segun el tamaño de los mismo presentes en el precio, es un dato que no permite tener en claro totalmente cual es el valor exacto.\n",
        "la mediana solo nos muestra el valor de la mitad sin verse afectado por valores grandes o pequeños que en este caso vemos que es el valor de 249075.66\n",
        "la moda es el dato que mas se repite dandonos asi el valor mas existente en la base de datos.\n"
      ],
      "metadata": {
        "id": "3txyCj0-9xCc"
      }
    },
    {
      "cell_type": "code",
      "source": [
        "#Task 10: Calculate the covariance and correlation coefficient between Price and Area, no matter if the property is sold or not. Is the result in line with the scatter plot?\n",
        "\n",
        "import numpy as np\n",
        "covarianza=np.cov(df_product['Price'],df_product['Area (ft.)'])\n",
        "print(\"la covarianza es: \",covarianza)\n",
        "\n",
        "correlacion=np.corrcoef(df_product['Price'],df_product['Area (ft.)'])\n",
        "print(\"la correlacion es: \",correlacion)"
      ],
      "metadata": {
        "colab": {
          "base_uri": "https://localhost:8080/"
        },
        "id": "jsVqmzL09uGw",
        "outputId": "a3e559fd-5c48-467b-a7c6-d5b65e8bcf2c"
      },
      "execution_count": 41,
      "outputs": [
        {
          "output_type": "stream",
          "name": "stdout",
          "text": [
            "la covarianza es:  [[7.94221773e+09 2.41477073e+07]\n",
            " [2.41477073e+07 8.11650800e+04]]\n",
            "la correlacion es:  [[1.         0.95108733]\n",
            " [0.95108733 1.        ]]\n"
          ]
        }
      ]
    }
  ]
}